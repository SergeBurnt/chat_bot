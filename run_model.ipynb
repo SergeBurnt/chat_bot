{
 "cells": [
  {
   "cell_type": "code",
   "execution_count": 1,
   "id": "e2171407-0b5f-4177-bb9b-176aba9a5b09",
   "metadata": {},
   "outputs": [],
   "source": [
    "import numpy as np\n",
    "import pandas as pd\n",
    "import torch\n",
    "from datasets import load_dataset\n",
    "from utils.database import CreateDatabase, SearchDatabase\n",
    "from utils.model_rag import ModelRagRanker\n",
    "from transformers import pipeline\n",
    "from langchain_community.cross_encoders import HuggingFaceCrossEncoder\n",
    "from sentence_transformers import SentenceTransformer\n",
    "import warnings\n",
    "warnings.filterwarnings('ignore')"
   ]
  },
  {
   "cell_type": "code",
   "execution_count": 2,
   "id": "47e2a00f-92ba-4629-9e93-eab74cebf2de",
   "metadata": {},
   "outputs": [],
   "source": [
    "def process_dataset(sample):\n",
    "    sample['content'] = sample['content'].replace('\\xa0', '')\n",
    "    return sample"
   ]
  },
  {
   "cell_type": "code",
   "execution_count": 3,
   "id": "ed221acc-1555-420b-816a-42c7e89283e6",
   "metadata": {},
   "outputs": [],
   "source": [
    "dataset = load_dataset('blinoff/kinopoisk')['train']\n",
    "dataset = dataset.map(process_dataset)"
   ]
  },
  {
   "cell_type": "code",
   "execution_count": 4,
   "id": "339ffda8-14eb-41c7-9c63-5a97ec97718e",
   "metadata": {},
   "outputs": [
    {
     "data": {
      "text/plain": [
       "{'part': 'top250',\n",
       " 'movie_name': 'Блеф (1976)',\n",
       " 'review_id': '17144',\n",
       " 'author': 'Come Back',\n",
       " 'date': datetime.datetime(2011, 9, 24, 0, 0),\n",
       " 'title': 'Плакали наши денежки ©',\n",
       " 'grade3': 'Good',\n",
       " 'grade10': '10',\n",
       " 'content': '\\n\"Блеф»—одна измоих самых любимых комедий.\\n\\nЭтот фильм янаверно смотрел разсто, нетя конечно блефую, явидел егокуда больше. Немогу невыразить своё восхищение главными действующими лицами этого фильма. Начну сАдриано Челентано длякоторого какя считаю этолучшая роль вкино. Великолепный актёр, неплохой певец, странно чтона егородине вИталии егопесни мало ктослушает. Нуя думаю чтои итальянцы ифранцузы привыкли ктому, чтоу насдо сихих актёры популярней чемдаже насвоей родине. Да, такой вотпарадокс. Челентано конечно профессионал своего дела, комик ссерьёзным выражением лица. Онсмешон ещёи потому, чтоодновременно таксеръёзен. Адриано браво!\\n\\nАтеперь несколько слов обЭнтони Куине. Датот самый горбун изНотр-дама. Собор Парижской Богоматери, оригинальная версия, ктоне смотрел рекомендую. Сним как-то приключилась одна интересная история. Насъёмках одного изсвоих фильмов онто лисломал, толи подвихнул ногу, ароль требовала отнего чтобы водной изсцен онкружился сдамой втанце. Ион вместе сосъёмочным коллективом вышел изэтого положения. Онисделали вращающеюся платформу, которая создавала видимость того, чтоон весь вритме танца. Воттакая вотистория, кслову обэтом замечательном актёре.\\n\\nНуи теперь самфильм, жанр которой можно смело обозвать авантюрой. Комедийной авантюрой. Некая Белль Дьюк, весьма влиятельная дама, пытается освободить своего старого знакомого авантюриста Филиппа Бенга, укоторого сней давние счёты. Новместо него насвободе оказывается другой комбинатор-аферист поимени Феликс. Ичтобы небыть битым головорезами Белль Дьюк, онуже самразрабатывает план побега Бэнга. После того какони встречаются череда смешных сцен заставит зрителя разразиться шквальным смехом. Вих умений блефовать, импросто нетравных. Главное правило чтобы блеф сработал, надо самому внего поверить. Помимо всего этого ониещё исоревнуются встратегий блефа. Некоторые сцены ихобмана запомнились мненадолго, особенно сцена вмагазине тканей: \\n\\n—Привет старина. Тактебя выпустили излепрозория?\\n—Не совсем, яоттуда сбежал.\\n\\nНу илифинальная сцена, которую можно охарактеризовать тремя словами; смех сквозь слёзы.\\n\\nВзавершении скажу, чтоэто великолепное кино можно смотреть ипересматривать очень много раз, ионо непотеряет своего шарма иобаяния.\\n\\n10 из10'}"
      ]
     },
     "execution_count": 4,
     "metadata": {},
     "output_type": "execute_result"
    }
   ],
   "source": [
    "dataset[0]"
   ]
  },
  {
   "cell_type": "code",
   "execution_count": 5,
   "id": "79900bd0-e118-42d0-ad35-74497f41b2e4",
   "metadata": {},
   "outputs": [
    {
     "name": "stdout",
     "output_type": "stream",
     "text": [
      "cuda\n"
     ]
    }
   ],
   "source": [
    "device = torch.device('cuda' if torch.cuda.is_available() else 'cpu')\n",
    "print(device)"
   ]
  },
  {
   "cell_type": "code",
   "execution_count": 6,
   "id": "288e6d46-b773-467d-936f-07ed65826250",
   "metadata": {},
   "outputs": [
    {
     "name": "stderr",
     "output_type": "stream",
     "text": [
      "Sliding Window Attention is enabled but not implemented for `sdpa`; unexpected results may be encountered.\n",
      "Device set to use cuda\n"
     ]
    }
   ],
   "source": [
    "generation_pipeline = pipeline(\n",
    "    'text-generation',\n",
    "    model='Qwen/Qwen2-1.5B-Instruct',\n",
    "    device=device,\n",
    "    torch_dtype=torch.float16\n",
    ")"
   ]
  },
  {
   "cell_type": "code",
   "execution_count": 7,
   "id": "87272f73-a23e-4767-b29c-16701eb95da8",
   "metadata": {},
   "outputs": [],
   "source": [
    "embedding_model = SentenceTransformer(\"intfloat/multilingual-e5-large\", model_kwargs={'torch_dtype': torch.float16})"
   ]
  },
  {
   "cell_type": "code",
   "execution_count": 8,
   "id": "cde1db0e-22fd-4010-a42f-83ffb7f16a58",
   "metadata": {},
   "outputs": [],
   "source": [
    "cross_encoder = HuggingFaceCrossEncoder(\n",
    "    model_name='amberoad/bert-multilingual-passage-reranking-msmarco',\n",
    "    model_kwargs={'device': device}\n",
    ")"
   ]
  },
  {
   "cell_type": "code",
   "execution_count": null,
   "id": "e5a6d573-d399-47ee-9d1a-2d637c99c3e0",
   "metadata": {},
   "outputs": [
    {
     "name": "stderr",
     "output_type": "stream",
     "text": [
      " 92%|█████████▏| 33814/36591 [19:25<01:43, 26.85it/s]"
     ]
    }
   ],
   "source": [
    "create_db = CreateDatabase(\n",
    "    embedding_model=embedding_model,\n",
    "    dataset=dataset,\n",
    "    device=device,\n",
    "    collection_name='kinopoisk_e5',\n",
    "    path='database'    \n",
    ")\n",
    "\n",
    "create_db.create()"
   ]
  },
  {
   "cell_type": "code",
   "execution_count": null,
   "id": "da56c50d-fd1d-45b6-8bda-ae5e4e1c1b73",
   "metadata": {},
   "outputs": [],
   "source": [
    "model = ModelRagRanker(\n",
    "    generation_pipeline=generation_pipeline,\n",
    "    embedding_model=embedding_model,\n",
    "    cross_encoder=cross_encoder,\n",
    "    path_client='database',\n",
    "    device=device,\n",
    "    collection_name='kinopoisk_e5',\n",
    "    temperature = 0.8,\n",
    "    top_p = 0.6,\n",
    ")"
   ]
  },
  {
   "cell_type": "code",
   "execution_count": null,
   "id": "617ec6c4-841d-44a2-ac13-3b1368491f84",
   "metadata": {},
   "outputs": [],
   "source": [
    "query = 'В каких 3 фильмах играл Роберт де Ниро?'"
   ]
  },
  {
   "cell_type": "code",
   "execution_count": null,
   "id": "17e61dbf-6886-4da8-bd39-bca12252dc35",
   "metadata": {},
   "outputs": [],
   "source": [
    "answer, context = model.predict(query)\n",
    "print(answer)"
   ]
  },
  {
   "cell_type": "code",
   "execution_count": null,
   "id": "6d0cbec4-9ecd-49c9-afda-461a62ca6781",
   "metadata": {},
   "outputs": [],
   "source": []
  },
  {
   "cell_type": "code",
   "execution_count": null,
   "id": "ec88afe5-32d2-4c8c-ba5e-b123d1a5a196",
   "metadata": {},
   "outputs": [],
   "source": []
  },
  {
   "cell_type": "code",
   "execution_count": null,
   "id": "51f7b438-7f96-46b8-9454-81add9be75b8",
   "metadata": {},
   "outputs": [],
   "source": []
  }
 ],
 "metadata": {
  "kernelspec": {
   "display_name": "Python 3 (ipykernel)",
   "language": "python",
   "name": "python3"
  },
  "language_info": {
   "codemirror_mode": {
    "name": "ipython",
    "version": 3
   },
   "file_extension": ".py",
   "mimetype": "text/x-python",
   "name": "python",
   "nbconvert_exporter": "python",
   "pygments_lexer": "ipython3",
   "version": "3.12.7"
  }
 },
 "nbformat": 4,
 "nbformat_minor": 5
}
