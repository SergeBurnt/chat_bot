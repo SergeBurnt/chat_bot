{
 "cells": [
  {
   "cell_type": "code",
   "execution_count": 1,
   "id": "e2171407-0b5f-4177-bb9b-176aba9a5b09",
   "metadata": {},
   "outputs": [],
   "source": [
    "import numpy as np\n",
    "import pandas as pd\n",
    "import torch\n",
    "from datasets import load_dataset, Dataset\n",
    "from utils.database import CreateDatabase, SearchDatabase\n",
    "from utils.model_rag import ModelRag\n",
    "from transformers import pipeline\n",
    "from langchain_community.cross_encoders import HuggingFaceCrossEncoder\n",
    "from sentence_transformers import SentenceTransformer\n",
    "import warnings\n",
    "warnings.filterwarnings('ignore')"
   ]
  },
  {
   "cell_type": "code",
   "execution_count": 2,
   "id": "658d3352-fb34-451d-8fbb-e7459ac366da",
   "metadata": {},
   "outputs": [],
   "source": [
    "np_001_15 = pd.read_excel('НП-001-15.xlsx')\n",
    "np_001_15 = np_001_15.rename(columns={'НТД': 'norm', 'Пункт': 'point', 'Описание': 'description'})\n",
    "dataset = Dataset.from_pandas(np_001_15)"
   ]
  },
  {
   "cell_type": "code",
   "execution_count": 3,
   "id": "93f812ae-806f-44eb-93e6-22c5b8d42027",
   "metadata": {},
   "outputs": [
    {
     "data": {
      "text/plain": [
       "{'document': 'НП-001-15',\n",
       " 'point': '1.1.1',\n",
       " 'decription': 'Большой аварийный выброс - выброс радиоактивных веществ в окружающую среду при аварии на АС, при котором необходимо выполнение мер защиты населения на границе зоны планирования защитных мероприятий на начальном периоде аварии, установленной в соответствии с требованиями норм и правил по размещению АС, и за ее пределами.'}"
      ]
     },
     "execution_count": 3,
     "metadata": {},
     "output_type": "execute_result"
    }
   ],
   "source": [
    "dataset[0]"
   ]
  },
  {
   "cell_type": "code",
   "execution_count": 4,
   "id": "79900bd0-e118-42d0-ad35-74497f41b2e4",
   "metadata": {},
   "outputs": [
    {
     "name": "stdout",
     "output_type": "stream",
     "text": [
      "cuda\n"
     ]
    }
   ],
   "source": [
    "device = torch.device('cuda' if torch.cuda.is_available() else 'cpu')\n",
    "print(device)"
   ]
  },
  {
   "cell_type": "code",
   "execution_count": 5,
   "id": "288e6d46-b773-467d-936f-07ed65826250",
   "metadata": {},
   "outputs": [
    {
     "name": "stderr",
     "output_type": "stream",
     "text": [
      "Sliding Window Attention is enabled but not implemented for `sdpa`; unexpected results may be encountered.\n",
      "Device set to use cuda\n"
     ]
    }
   ],
   "source": [
    "generation_pipeline = pipeline(\n",
    "    'text-generation',\n",
    "    model='Qwen/Qwen2-1.5B-Instruct',\n",
    "    device=device,\n",
    "    torch_dtype=torch.float16\n",
    ")"
   ]
  },
  {
   "cell_type": "code",
   "execution_count": 6,
   "id": "87272f73-a23e-4767-b29c-16701eb95da8",
   "metadata": {},
   "outputs": [],
   "source": [
    "embedding_model = SentenceTransformer(\"intfloat/multilingual-e5-large\", model_kwargs={'torch_dtype': torch.float16})"
   ]
  },
  {
   "cell_type": "code",
   "execution_count": 7,
   "id": "cde1db0e-22fd-4010-a42f-83ffb7f16a58",
   "metadata": {},
   "outputs": [],
   "source": [
    "cross_encoder = HuggingFaceCrossEncoder(\n",
    "    model_name='amberoad/bert-multilingual-passage-reranking-msmarco',\n",
    "    model_kwargs={'device': device}\n",
    ")"
   ]
  },
  {
   "cell_type": "code",
   "execution_count": 8,
   "id": "e5a6d573-d399-47ee-9d1a-2d637c99c3e0",
   "metadata": {},
   "outputs": [],
   "source": [
    "# create_db = CreateDatabase(\n",
    "#     embedding_model=embedding_model,\n",
    "#     dataset=dataset,\n",
    "#     device=device,\n",
    "#     collection_name='regulatory_documentation',\n",
    "#     path='aep_chat_bot'    \n",
    "# )\n",
    "\n",
    "# create_db.create()"
   ]
  },
  {
   "cell_type": "code",
   "execution_count": 9,
   "id": "da56c50d-fd1d-45b6-8bda-ae5e4e1c1b73",
   "metadata": {},
   "outputs": [],
   "source": [
    "model = ModelRag(\n",
    "    generation_pipeline=generation_pipeline,\n",
    "    embedding_model=embedding_model,\n",
    "    cross_encoder=cross_encoder,\n",
    "    path_client='aep_chat_bot',\n",
    "    device=device,\n",
    "    collection_name='regulatory_documentation',\n",
    "    temperature = 0.9,\n",
    "    top_p = 0.6,\n",
    "    max_new_tokens=1024\n",
    ")"
   ]
  },
  {
   "cell_type": "code",
   "execution_count": 18,
   "id": "617ec6c4-841d-44a2-ac13-3b1368491f84",
   "metadata": {},
   "outputs": [
    {
     "name": "stdout",
     "output_type": "stream",
     "text": [
      "В соответствии с вашим запросом, здесь приведен список классов безопасности по НП-001-15:\n",
      "\n",
      "1. Класс 1. Элементы АС, которые могут быть исходными событиями аварий, приводящими к повреждению тепловыделяющего элемента и превышению максимального проектного предела.\n",
      "\n",
      "2. Класс 2. Элементы АС, которые не входят в класс 1, но могут быть исходными событиями аварий, приводящими к повреждению тепловыделяющего элемента без превышения максимального проектного предела при проектном функционировании систем безопасности с учетом нормируемого для проектных аварий количества отказов в этих системах.\n",
      "\n",
      "3. Класс 3. Элементы АС, которые важны для безопасности и не входят в классы 1 и 2.\n",
      "\n",
      "4. Класс 4. Элементы АС, которые не влияют на безопасность и не вошли в классы 1, 2, 3. \n",
      "\n",
      "Они содержатся в пункте 7, разделе \"Основные понятия\" статьи NPP-001-15.\n"
     ]
    }
   ],
   "source": [
    "query = 'Опиши четыре класса безопасности по НП-001-15. Расскажи подробно что они включают и какие эелементы к ним относятся? В каком пункте НП-001-15 идет их описание?'\n",
    "answer, context = model.predict(query)\n",
    "print(answer)"
   ]
  },
  {
   "cell_type": "code",
   "execution_count": 11,
   "id": "ec88afe5-32d2-4c8c-ba5e-b123d1a5a196",
   "metadata": {},
   "outputs": [
    {
     "name": "stdout",
     "output_type": "stream",
     "text": [
      "Ваш вопрос о 5 уровнях глубокоэшелонированной защиты в атомной энергетике имеет множество различных источников, включая официальные нормативные документы, руководства по проектированию и правила безопасности. Вот несколько основных аспектов, которые могут быть связаны с вашим вопросом:\n",
      "\n",
      "1. Задачи уровня 1: Оценка и выбор площадки, пригодной для размещения АС; установление санитарно-защитной зоны, зоны наблюдения вокруг АС, а также зоны планирования защитных мероприятий. Этот уровень может включать в себя анализ местоположения, доступности и возможностей защиты, а также проведение исследований для определения наиболее безопасного места для размещения АС.\n",
      "\n",
      "2. Задачи уровня 2: Предотвращение проектных аварий системами нормальной эксплуатации: своевременное выявление отклонений от нормальной эксплуатации и их устранение; управление при эксплуатации с отклонениями. Этот уровень может включать в себя регулярные проверки и диагностику системы, а также внедрение систем контроля качества для предотвращения возникновения проблем.\n",
      "\n",
      "3. Задачи уровня 3: Предотвращение запроектных аварий системами безопасности: предотвращение перерастания исходных событий в проектные аварии, а проектных аварий в запроектные аварии с применением систем безопасности; ослабление последствий аварий, которые не удалось предотвратить, путем локализации выделяющихся радиоактивных веществ. Этот уровень может включать в себя использование систем автоматического контроля, а также разработку и внедрение систем для обнаружения и предотвращения аварий.\n",
      "\n",
      "4. Задачи уровня 4: Управление запроектными авариями: возвращение АС в контролируемое состояние, при котором прекращается цепная реакция деления, обеспечиваются постоянное охлаждение топлива и удержание радиоактивных веществ в установленных границах. Этот уровень может включать в себя разработку и внедрение систем для контроля состояния АС, а также разработку и внедрение систем для охлаждения и управления радиоактивными веществами.\n",
      "\n",
      "5. Задачи уровня 5: Противоаварийное планирование: подготовка и осуществление планов мероприятий по защите персонала и населения на площадке АС и за ее пределами. Этот уровень может включать в себя разработку и внедрение планов для предотвращения аварий и для защиты персонала и населения.\n",
      "\n",
      "Эти уровни являются важным элементом системы глубокоэшелонированной защиты и помогают обеспечить безопасность АС. Они должны быть адаптированы и применены в соответствии с требованиями и нормами безопасности, установленными в каждом конкретном случае.\n"
     ]
    }
   ],
   "source": [
    "query = 'Расскажи про 5 уровней глубокоэшелонированной защиты'\n",
    "answer, context = model.predict(query)\n",
    "print(answer)"
   ]
  },
  {
   "cell_type": "code",
   "execution_count": 12,
   "id": "51f7b438-7f96-46b8-9454-81add9be75b8",
   "metadata": {},
   "outputs": [
    {
     "name": "stdout",
     "output_type": "stream",
     "text": [
      "Основные функции систем безопасности на атомной станции включают:\n",
      "\n",
      "1. Аварийный останов реактора и поддержание его в подкритическом состоянии: система обеспечивает своевременное прекращение работы реактора при возникновении аварии и защиту окружающей среды от радиации.\n",
      "\n",
      "2. Аварийный отвод тепла от реактора: система обеспечивает эффективное отведение тепла от реактора и бассейнов выдержки отработавшего ядерного топлива, предотвращая их нагрев и дальнейшее радиоактивное загрязнение.\n",
      "\n",
      "3. Удержание радиоактивных веществ в установленных границах: система обеспечивает постоянное контроль за уровнем радиоактивности ядерного топлива и других радиоактивных веществ, чтобы предотвратить их неблагоприятное воздействие на окружающую среду и здоровье людей.\n",
      "\n",
      "4. Функции защиты: система обеспечивает защиту оборудования и людей от воздействия радиации и других опасностей.\n",
      "\n",
      "5. Бассейны для выдержки ОЯТ: система обеспечивает подпитку бассейнов для хранения и транспортировки ядерного топлива, чтобы предотвратить их нагрев и радиоактивное загрязнение.\n",
      "\n",
      "6. Проверка и обслуживание систем безопасности: система обеспечивает своевременное техническое обслуживание, ремонт, испытания и проверки систем безопасности, чтобы предотвратить их поломку и повреждение.\n"
     ]
    }
   ],
   "source": [
    "query = 'Перечисли основные функции систем безопасности на атомной станции'\n",
    "answer, context = model.predict(query)\n",
    "print(answer)"
   ]
  },
  {
   "cell_type": "code",
   "execution_count": null,
   "id": "fdaab507-0b50-4c18-b9a1-4dc2dd59d838",
   "metadata": {},
   "outputs": [],
   "source": []
  }
 ],
 "metadata": {
  "kernelspec": {
   "display_name": "Python 3 (ipykernel)",
   "language": "python",
   "name": "python3"
  },
  "language_info": {
   "codemirror_mode": {
    "name": "ipython",
    "version": 3
   },
   "file_extension": ".py",
   "mimetype": "text/x-python",
   "name": "python",
   "nbconvert_exporter": "python",
   "pygments_lexer": "ipython3",
   "version": "3.12.7"
  }
 },
 "nbformat": 4,
 "nbformat_minor": 5
}
