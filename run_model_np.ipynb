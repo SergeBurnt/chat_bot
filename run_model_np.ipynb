{
 "cells": [
  {
   "cell_type": "code",
   "execution_count": 1,
   "id": "e2171407-0b5f-4177-bb9b-176aba9a5b09",
   "metadata": {},
   "outputs": [],
   "source": [
    "import numpy as np\n",
    "import pandas as pd\n",
    "import torch\n",
    "import warnings\n",
    "from datasets import load_dataset, Dataset\n",
    "from utils.database import CreateDatabase, SearchDatabase\n",
    "from utils.model_rag import ModelRag\n",
    "from transformers import pipeline\n",
    "from langchain_community.cross_encoders import HuggingFaceCrossEncoder\n",
    "from sentence_transformers import SentenceTransformer\n",
    "\n",
    "warnings.filterwarnings('ignore')"
   ]
  },
  {
   "cell_type": "code",
   "execution_count": 2,
   "id": "3df3c813-7126-43b3-bbcc-5df663bc3900",
   "metadata": {},
   "outputs": [],
   "source": [
    "path_client = 'aep_chat_bot'\n",
    "collection_name = 'regulatory_documentation'"
   ]
  },
  {
   "cell_type": "markdown",
   "id": "f418004f-d11e-478c-85e7-a9dfbf6ee033",
   "metadata": {},
   "source": [
    "# Dataset"
   ]
  },
  {
   "cell_type": "code",
   "execution_count": 3,
   "id": "658d3352-fb34-451d-8fbb-e7459ac366da",
   "metadata": {},
   "outputs": [],
   "source": [
    "total = pd.read_excel('data/total.xlsx', dtype={'point': str})\n",
    "# np_001_15 = np_001_15.rename(columns={'НТД': 'document', 'Пункт': 'point', 'Описание': 'description'})\n",
    "dataset = Dataset.from_pandas(total)"
   ]
  },
  {
   "cell_type": "code",
   "execution_count": 4,
   "id": "93f812ae-806f-44eb-93e6-22c5b8d42027",
   "metadata": {},
   "outputs": [
    {
     "data": {
      "text/plain": [
       "{'document': 'НП-005-16',\n",
       " 'point': '1',\n",
       " 'description': 'Настоящие федеральные нормы и правила в области использования атомной энергии \"Положение о порядке объявления аварийной обстановки, оперативной передачи информации и организации экстренной помощи атомным станциям в случаях радиационно опасных ситуаций\" (далее - Положение) разработаны в соответствии со статьей 6 Федерального закона от 21 ноября 1995 г. N 170-ФЗ \"Об использовании атомной энергии\" (Собрание законодательства Российской Федерации, 1995, N 48, ст. 4552; 1997, N 7, ст. 808; 2001, N 29, ст. 2949; 2002, N 1, ст. 2; N 13, ст. 1180; 2003, N 46, ст. 4436; 2004, N 35, ст. 3607; 2006, N 52, ст. 5498; 2007, N 7, ст. 834; N 49, ст. 6079; 2008, N 29, ст. 3418; N 30, ст. 3616; 2009, N 1, ст. 17; N 52, ст. 6450; 2011, N 29, ст. 4281; N 30, ст. 4590, ст. 4596; N 45, ст. 6333; N 48, ст. 6732; N 49, ст. 7025; 2012, N 26, ст. 3446; 2013, N 27, ст. 3451), постановлением Правительства Российской Федерации от 1 декабря 1997 г. N 1511 \"Об утверждении Положения о разработке и утверждении федеральных норм и правил в области использования атомной энергии\" (Собрание законодательства Российской Федерации, 1997, N 49, ст. 5600; 1999, N 27, ст. 3380; 2000, N 28, ст. 2981; 2002, N 4, ст. 325; N 44, ст. 4392; 2003, N 40, ст. 3899; 2005, N 23, ст. 2278; 2006, N 50, ст. 5346; 2007, N 14, ст. 1692; N 46, ст. 5583; 2008, N 15, ст. 1549; 2012, N 51, ст. 7203).'}"
      ]
     },
     "execution_count": 4,
     "metadata": {},
     "output_type": "execute_result"
    }
   ],
   "source": [
    "dataset[0]"
   ]
  },
  {
   "cell_type": "code",
   "execution_count": 5,
   "id": "79900bd0-e118-42d0-ad35-74497f41b2e4",
   "metadata": {},
   "outputs": [
    {
     "name": "stdout",
     "output_type": "stream",
     "text": [
      "cuda\n"
     ]
    }
   ],
   "source": [
    "device = torch.device('cuda' if torch.cuda.is_available() else 'cpu')\n",
    "print(device)"
   ]
  },
  {
   "cell_type": "markdown",
   "id": "258540ce-c5cf-4c64-915e-bb3358e242fd",
   "metadata": {},
   "source": [
    "# Create Database"
   ]
  },
  {
   "cell_type": "code",
   "execution_count": 6,
   "id": "c8d62447-12ab-4646-87ac-fc807802bf54",
   "metadata": {},
   "outputs": [],
   "source": [
    "# embedding_model = SentenceTransformer(\n",
    "#     \"intfloat/multilingual-e5-large\",\n",
    "#     model_kwargs={'torch_dtype': torch.float16}\n",
    "# )\n",
    "\n",
    "# create_db = CreateDatabase(\n",
    "#     embedding_model=embedding_model,\n",
    "#     dataset=dataset,\n",
    "#     device=device,\n",
    "#     collection_name=collection_name,\n",
    "#     path=path_client    \n",
    "# )\n",
    "\n",
    "# create_db.create()"
   ]
  },
  {
   "cell_type": "markdown",
   "id": "de39dd52-1295-4371-80db-c7d74470e36a",
   "metadata": {},
   "source": [
    "# Generation"
   ]
  },
  {
   "cell_type": "code",
   "execution_count": 7,
   "id": "288e6d46-b773-467d-936f-07ed65826250",
   "metadata": {},
   "outputs": [
    {
     "name": "stderr",
     "output_type": "stream",
     "text": [
      "Sliding Window Attention is enabled but not implemented for `sdpa`; unexpected results may be encountered.\n",
      "Device set to use cuda\n"
     ]
    }
   ],
   "source": [
    "generation_pipeline = pipeline(\n",
    "    'text-generation',\n",
    "    # model='Qwen/Qwen2-1.5B-Instruct',\n",
    "    model='train_model/Qwen_Qwen2_1.5B_Instruct',\n",
    "    device=device,\n",
    "    torch_dtype=torch.float16\n",
    ")"
   ]
  },
  {
   "cell_type": "code",
   "execution_count": 8,
   "id": "87272f73-a23e-4767-b29c-16701eb95da8",
   "metadata": {},
   "outputs": [],
   "source": [
    "embedding_model = SentenceTransformer(\n",
    "    \"intfloat/multilingual-e5-large\",\n",
    "    model_kwargs={'torch_dtype': torch.float16}\n",
    ")"
   ]
  },
  {
   "cell_type": "code",
   "execution_count": 9,
   "id": "cde1db0e-22fd-4010-a42f-83ffb7f16a58",
   "metadata": {},
   "outputs": [],
   "source": [
    "cross_encoder = HuggingFaceCrossEncoder(\n",
    "    model_name='amberoad/bert-multilingual-passage-reranking-msmarco',\n",
    "    model_kwargs={'device': device}\n",
    ")"
   ]
  },
  {
   "cell_type": "code",
   "execution_count": 22,
   "id": "da56c50d-fd1d-45b6-8bda-ae5e4e1c1b73",
   "metadata": {
    "collapsed": true,
    "jupyter": {
     "outputs_hidden": true
    }
   },
   "outputs": [
    {
     "ename": "RuntimeError",
     "evalue": "Storage folder aep_chat_bot is already accessed by another instance of Qdrant client. If you require concurrent access, use Qdrant server instead.",
     "output_type": "error",
     "traceback": [
      "\u001b[1;31m---------------------------------------------------------------------------\u001b[0m",
      "\u001b[1;31merror\u001b[0m                                     Traceback (most recent call last)",
      "File \u001b[1;32m~\\anaconda3\\Lib\\site-packages\\portalocker\\portalocker.py:49\u001b[0m, in \u001b[0;36mlock\u001b[1;34m(file_, flags)\u001b[0m\n\u001b[0;32m     48\u001b[0m \u001b[38;5;28;01mtry\u001b[39;00m:\n\u001b[1;32m---> 49\u001b[0m     win32file\u001b[38;5;241m.\u001b[39mLockFileEx(os_fh, mode, \u001b[38;5;241m0\u001b[39m, \u001b[38;5;241m-\u001b[39m\u001b[38;5;241m0x10000\u001b[39m, __overlapped)\n\u001b[0;32m     50\u001b[0m \u001b[38;5;28;01mexcept\u001b[39;00m pywintypes\u001b[38;5;241m.\u001b[39merror \u001b[38;5;28;01mas\u001b[39;00m exc_value:\n\u001b[0;32m     51\u001b[0m     \u001b[38;5;66;03m# error: (33, 'LockFileEx', 'The process cannot access the file\u001b[39;00m\n\u001b[0;32m     52\u001b[0m     \u001b[38;5;66;03m# because another process has locked a portion of the file.')\u001b[39;00m\n",
      "\u001b[1;31merror\u001b[0m: (33, 'LockFileEx', 'Процесс не может получить доступ к файлу, так как часть этого файла заблокирована другим процессом.')",
      "\nThe above exception was the direct cause of the following exception:\n",
      "\u001b[1;31mAlreadyLocked\u001b[0m                             Traceback (most recent call last)",
      "File \u001b[1;32m~\\anaconda3\\Lib\\site-packages\\qdrant_client\\local\\qdrant_local.py:134\u001b[0m, in \u001b[0;36mQdrantLocal._load\u001b[1;34m(self)\u001b[0m\n\u001b[0;32m    133\u001b[0m \u001b[38;5;28;01mtry\u001b[39;00m:\n\u001b[1;32m--> 134\u001b[0m     portalocker\u001b[38;5;241m.\u001b[39mlock(\n\u001b[0;32m    135\u001b[0m         \u001b[38;5;28mself\u001b[39m\u001b[38;5;241m.\u001b[39m_flock_file,\n\u001b[0;32m    136\u001b[0m         portalocker\u001b[38;5;241m.\u001b[39mLockFlags\u001b[38;5;241m.\u001b[39mEXCLUSIVE \u001b[38;5;241m|\u001b[39m portalocker\u001b[38;5;241m.\u001b[39mLockFlags\u001b[38;5;241m.\u001b[39mNON_BLOCKING,\n\u001b[0;32m    137\u001b[0m     )\n\u001b[0;32m    138\u001b[0m \u001b[38;5;28;01mexcept\u001b[39;00m portalocker\u001b[38;5;241m.\u001b[39mexceptions\u001b[38;5;241m.\u001b[39mLockException:\n",
      "File \u001b[1;32m~\\anaconda3\\Lib\\site-packages\\portalocker\\portalocker.py:54\u001b[0m, in \u001b[0;36mlock\u001b[1;34m(file_, flags)\u001b[0m\n\u001b[0;32m     53\u001b[0m \u001b[38;5;28;01mif\u001b[39;00m exc_value\u001b[38;5;241m.\u001b[39mwinerror \u001b[38;5;241m==\u001b[39m winerror\u001b[38;5;241m.\u001b[39mERROR_LOCK_VIOLATION:\n\u001b[1;32m---> 54\u001b[0m     \u001b[38;5;28;01mraise\u001b[39;00m exceptions\u001b[38;5;241m.\u001b[39mAlreadyLocked(\n\u001b[0;32m     55\u001b[0m         exceptions\u001b[38;5;241m.\u001b[39mLockException\u001b[38;5;241m.\u001b[39mLOCK_FAILED,\n\u001b[0;32m     56\u001b[0m         exc_value\u001b[38;5;241m.\u001b[39mstrerror,\n\u001b[0;32m     57\u001b[0m         fh\u001b[38;5;241m=\u001b[39mfile_,\n\u001b[0;32m     58\u001b[0m     ) \u001b[38;5;28;01mfrom\u001b[39;00m \u001b[38;5;21;01mexc_value\u001b[39;00m\n\u001b[0;32m     59\u001b[0m \u001b[38;5;28;01melse\u001b[39;00m:\n\u001b[0;32m     60\u001b[0m     \u001b[38;5;66;03m# Q:  Are there exceptions/codes we should be dealing with\u001b[39;00m\n\u001b[0;32m     61\u001b[0m     \u001b[38;5;66;03m# here?\u001b[39;00m\n",
      "\u001b[1;31mAlreadyLocked\u001b[0m: (1, 'Процесс не может получить доступ к файлу, так как часть этого файла заблокирована другим процессом.')",
      "\nDuring handling of the above exception, another exception occurred:\n",
      "\u001b[1;31mRuntimeError\u001b[0m                              Traceback (most recent call last)",
      "Cell \u001b[1;32mIn[22], line 1\u001b[0m\n\u001b[1;32m----> 1\u001b[0m model \u001b[38;5;241m=\u001b[39m ModelRag(\n\u001b[0;32m      2\u001b[0m     generation_pipeline\u001b[38;5;241m=\u001b[39mgeneration_pipeline,\n\u001b[0;32m      3\u001b[0m     embedding_model\u001b[38;5;241m=\u001b[39membedding_model,\n\u001b[0;32m      4\u001b[0m     cross_encoder\u001b[38;5;241m=\u001b[39mcross_encoder,\n\u001b[0;32m      5\u001b[0m     path_client\u001b[38;5;241m=\u001b[39mpath_client,\n\u001b[0;32m      6\u001b[0m     device\u001b[38;5;241m=\u001b[39mdevice,\n\u001b[0;32m      7\u001b[0m     collection_name\u001b[38;5;241m=\u001b[39mcollection_name,\n\u001b[0;32m      8\u001b[0m     temperature\u001b[38;5;241m=\u001b[39m\u001b[38;5;241m0.8\u001b[39m,\n\u001b[0;32m      9\u001b[0m     top_p\u001b[38;5;241m=\u001b[39m\u001b[38;5;241m0.6\u001b[39m,\n\u001b[0;32m     10\u001b[0m     max_new_tokens\u001b[38;5;241m=\u001b[39m\u001b[38;5;241m512\u001b[39m\n\u001b[0;32m     11\u001b[0m )\n",
      "File \u001b[1;32mD:\\study\\NLP\\chat_bot_aep\\utils\\model_rag.py:40\u001b[0m, in \u001b[0;36mModelRag.__init__\u001b[1;34m(self, generation_pipeline, embedding_model, cross_encoder, path_client, device, collection_name, max_new_tokens, do_sample, temperature, top_p, limit_semantic_search, count_rephrase, max_history_size)\u001b[0m\n\u001b[0;32m     38\u001b[0m \u001b[38;5;28mself\u001b[39m\u001b[38;5;241m.\u001b[39mtop_p \u001b[38;5;241m=\u001b[39m top_p  \u001b[38;5;66;03m# Параметр для выбора токенов с наибольшей вероятностью\u001b[39;00m\n\u001b[0;32m     39\u001b[0m \u001b[38;5;28mself\u001b[39m\u001b[38;5;241m.\u001b[39mpath_client \u001b[38;5;241m=\u001b[39m path_client  \u001b[38;5;66;03m# Путь к клиенту Qdrant\u001b[39;00m\n\u001b[1;32m---> 40\u001b[0m \u001b[38;5;28mself\u001b[39m\u001b[38;5;241m.\u001b[39mclient \u001b[38;5;241m=\u001b[39m QdrantClient(path\u001b[38;5;241m=\u001b[39m\u001b[38;5;28mself\u001b[39m\u001b[38;5;241m.\u001b[39mpath_client)  \u001b[38;5;66;03m# Инициализация клиента Qdrant\u001b[39;00m\n\u001b[0;32m     41\u001b[0m \u001b[38;5;28mself\u001b[39m\u001b[38;5;241m.\u001b[39mlimit_semantic_search \u001b[38;5;241m=\u001b[39m limit_semantic_search  \u001b[38;5;66;03m# Лимит на количество результатов в поиске\u001b[39;00m\n\u001b[0;32m     42\u001b[0m \u001b[38;5;28mself\u001b[39m\u001b[38;5;241m.\u001b[39mcollection_name \u001b[38;5;241m=\u001b[39m collection_name  \u001b[38;5;66;03m# Имя коллекции в базе данных\u001b[39;00m\n",
      "File \u001b[1;32m~\\anaconda3\\Lib\\site-packages\\qdrant_client\\qdrant_client.py:130\u001b[0m, in \u001b[0;36mQdrantClient.__init__\u001b[1;34m(self, location, url, port, grpc_port, prefer_grpc, https, api_key, prefix, timeout, host, path, force_disable_check_same_thread, grpc_options, auth_token_provider, cloud_inference, check_compatibility, **kwargs)\u001b[0m\n\u001b[0;32m    125\u001b[0m     \u001b[38;5;28mself\u001b[39m\u001b[38;5;241m.\u001b[39m_client \u001b[38;5;241m=\u001b[39m QdrantLocal(\n\u001b[0;32m    126\u001b[0m         location\u001b[38;5;241m=\u001b[39mlocation,\n\u001b[0;32m    127\u001b[0m         force_disable_check_same_thread\u001b[38;5;241m=\u001b[39mforce_disable_check_same_thread,\n\u001b[0;32m    128\u001b[0m     )\n\u001b[0;32m    129\u001b[0m \u001b[38;5;28;01melif\u001b[39;00m path \u001b[38;5;129;01mis\u001b[39;00m \u001b[38;5;129;01mnot\u001b[39;00m \u001b[38;5;28;01mNone\u001b[39;00m:\n\u001b[1;32m--> 130\u001b[0m     \u001b[38;5;28mself\u001b[39m\u001b[38;5;241m.\u001b[39m_client \u001b[38;5;241m=\u001b[39m QdrantLocal(\n\u001b[0;32m    131\u001b[0m         location\u001b[38;5;241m=\u001b[39mpath,\n\u001b[0;32m    132\u001b[0m         force_disable_check_same_thread\u001b[38;5;241m=\u001b[39mforce_disable_check_same_thread,\n\u001b[0;32m    133\u001b[0m     )\n\u001b[0;32m    134\u001b[0m \u001b[38;5;28;01melse\u001b[39;00m:\n\u001b[0;32m    135\u001b[0m     \u001b[38;5;28;01mif\u001b[39;00m location \u001b[38;5;129;01mis\u001b[39;00m \u001b[38;5;129;01mnot\u001b[39;00m \u001b[38;5;28;01mNone\u001b[39;00m \u001b[38;5;129;01mand\u001b[39;00m url \u001b[38;5;129;01mis\u001b[39;00m \u001b[38;5;28;01mNone\u001b[39;00m:\n",
      "File \u001b[1;32m~\\anaconda3\\Lib\\site-packages\\qdrant_client\\local\\qdrant_local.py:67\u001b[0m, in \u001b[0;36mQdrantLocal.__init__\u001b[1;34m(self, location, force_disable_check_same_thread)\u001b[0m\n\u001b[0;32m     65\u001b[0m \u001b[38;5;28mself\u001b[39m\u001b[38;5;241m.\u001b[39maliases: \u001b[38;5;28mdict\u001b[39m[\u001b[38;5;28mstr\u001b[39m, \u001b[38;5;28mstr\u001b[39m] \u001b[38;5;241m=\u001b[39m {}\n\u001b[0;32m     66\u001b[0m \u001b[38;5;28mself\u001b[39m\u001b[38;5;241m.\u001b[39m_flock_file: Optional[TextIOWrapper] \u001b[38;5;241m=\u001b[39m \u001b[38;5;28;01mNone\u001b[39;00m\n\u001b[1;32m---> 67\u001b[0m \u001b[38;5;28mself\u001b[39m\u001b[38;5;241m.\u001b[39m_load()\n\u001b[0;32m     68\u001b[0m \u001b[38;5;28mself\u001b[39m\u001b[38;5;241m.\u001b[39m_closed: \u001b[38;5;28mbool\u001b[39m \u001b[38;5;241m=\u001b[39m \u001b[38;5;28;01mFalse\u001b[39;00m\n",
      "File \u001b[1;32m~\\anaconda3\\Lib\\site-packages\\qdrant_client\\local\\qdrant_local.py:139\u001b[0m, in \u001b[0;36mQdrantLocal._load\u001b[1;34m(self)\u001b[0m\n\u001b[0;32m    134\u001b[0m     portalocker\u001b[38;5;241m.\u001b[39mlock(\n\u001b[0;32m    135\u001b[0m         \u001b[38;5;28mself\u001b[39m\u001b[38;5;241m.\u001b[39m_flock_file,\n\u001b[0;32m    136\u001b[0m         portalocker\u001b[38;5;241m.\u001b[39mLockFlags\u001b[38;5;241m.\u001b[39mEXCLUSIVE \u001b[38;5;241m|\u001b[39m portalocker\u001b[38;5;241m.\u001b[39mLockFlags\u001b[38;5;241m.\u001b[39mNON_BLOCKING,\n\u001b[0;32m    137\u001b[0m     )\n\u001b[0;32m    138\u001b[0m \u001b[38;5;28;01mexcept\u001b[39;00m portalocker\u001b[38;5;241m.\u001b[39mexceptions\u001b[38;5;241m.\u001b[39mLockException:\n\u001b[1;32m--> 139\u001b[0m     \u001b[38;5;28;01mraise\u001b[39;00m \u001b[38;5;167;01mRuntimeError\u001b[39;00m(\n\u001b[0;32m    140\u001b[0m         \u001b[38;5;124mf\u001b[39m\u001b[38;5;124m\"\u001b[39m\u001b[38;5;124mStorage folder \u001b[39m\u001b[38;5;132;01m{\u001b[39;00m\u001b[38;5;28mself\u001b[39m\u001b[38;5;241m.\u001b[39mlocation\u001b[38;5;132;01m}\u001b[39;00m\u001b[38;5;124m is already accessed by another instance of Qdrant client.\u001b[39m\u001b[38;5;124m\"\u001b[39m\n\u001b[0;32m    141\u001b[0m         \u001b[38;5;124mf\u001b[39m\u001b[38;5;124m\"\u001b[39m\u001b[38;5;124m If you require concurrent access, use Qdrant server instead.\u001b[39m\u001b[38;5;124m\"\u001b[39m\n\u001b[0;32m    142\u001b[0m     )\n",
      "\u001b[1;31mRuntimeError\u001b[0m: Storage folder aep_chat_bot is already accessed by another instance of Qdrant client. If you require concurrent access, use Qdrant server instead."
     ]
    }
   ],
   "source": [
    "model = ModelRag(\n",
    "    generation_pipeline=generation_pipeline,\n",
    "    embedding_model=embedding_model,\n",
    "    cross_encoder=cross_encoder,\n",
    "    path_client=path_client,\n",
    "    device=device,\n",
    "    collection_name=collection_name,\n",
    "    temperature=0.8,\n",
    "    top_p=0.6,\n",
    "    max_new_tokens=1024\n",
    ")"
   ]
  },
  {
   "cell_type": "code",
   "execution_count": 31,
   "id": "163b8dc5-1af3-4c00-87fb-dd80991fee7a",
   "metadata": {},
   "outputs": [
    {
     "name": "stdout",
     "output_type": "stream",
     "text": [
      "Категории сейсмостойкости в атомной энергетике определяются по уровню ответственности за обеспечение безопасности и работоспособности после прохождения землетрясения. Они разделяются на три категории:\n",
      "\n",
      "1. Класс I сейсмостойкости - это самые безопасные категории, где системы и элементы, которые обеспечивают работу станции, могут быть полностью отключены в случае землетрясения. \n",
      "\n",
      "2. Класс II сейсмостойкости - эти системы и элементы могут быть частично отключены, но они должны продолжать функционировать после землетрясения.\n",
      "\n",
      "3. Класс III сейсмостойкости - это менее безопасные категории, где системы и элементы могут быть полностью отключены или частично отключены в случае землетрясения.\n",
      "\n",
      "Важно отметить, что эти категории не являются абсолютными и могут меняться в зависимости от специфической ситуации и требований проекта.\n"
     ]
    }
   ],
   "source": [
    "query = 'Какие бывают категории сейсмостойкости и что к ним относится?'\n",
    "answer, context, history = model.predict(query)\n",
    "print(answer)"
   ]
  },
  {
   "cell_type": "code",
   "execution_count": 30,
   "id": "cae24375-3ab5-48a9-bdd7-585bc8c5fcca",
   "metadata": {},
   "outputs": [
    {
     "data": {
      "text/plain": [
       "['',\n",
       " ': НП-031-01. Пункт: Здания, сооружения, строительные конструкции и основания, технологическое и электротехническое оборудование, трубопроводы, приборы, другие системы и элементы АС в зависимости от степени их ответственности для обеспечения безопасности при сейсмических воздействиях и работоспособности после прохождения землетрясения должны быть классифицированы на три категории сейсмостойкости с учетом их класса безопасности согласно требованиям Общих положений обеспечения безопасности атомных станций: ; ',\n",
       " ': НП-036-05. Пункт: Здания, сооружения, строительные конструкции и основания, технологическое и электротехническое оборудование, трубопроводы, приборы, другие системы и элементы АС в зависимости от степени их ответственности для обеспечения безопасности при сейсмических воздействиях и работоспособности после прохождения землетрясения должны быть классифицированы на три категории сейсмостойкости с учетом их класса безопасности согласно требованиям Общих положений обеспечения безопасности атомных станций: ; ',\n",
       " ': НП-031-01. Пункт: Для подтверждения сейсмостойкости экспериментальным путем изделия должны испытываться на виброустойчивость и вибропрочность. Изделия I категории \\xa0сейсмостойкости испытываются при воздействии реальных или гармонических нагрузок, эквивалентных сейсмическому воздействию при МРЗ, изделия II категории сейсмостойкости - при действии реальных или гармонических нагрузок, эквивалентных сейсмическому воздействию при ПЗ. ; ',\n",
       " ': НП-031-01. Пункт: Ко II категории сейсмостойкости должны быть отнесены системы АС и их элементы (не вошедшие в I категорию), нарушение работы которых в отдельности или в совокупности с другими системами и элементами может повлечь перерыв в выработке электроэнергии и тепла, а также системы и элементы класса безопасности 3, которые не отнесены к I категории сейсмостойкости. ; ',\n",
       " ': НП-031-01. Пункт: К III категории сейсмостойкости должны быть отнесены все остальные здания, сооружения и их основания, конструкции, оборудование и их элементы, не отнесенные к категориям сейсмостойкости I и II. ; ',\n",
       " ': НП-031-01. Пункт: Элементы одной системы могут быть отнесены к разным категориям сейсмостойкости с проведением специальных мероприятий по их разделению (отсечная, регулирующая арматура и т.п.). Применяемые для разделения элементы и узлы относятся к более высокой категории сейсмостойкости. ; ',\n",
       " ': НП-031-01. Пункт: К I категории сейсмостойкости относятся:\\n- элементы АС классов безопасности 1 и 2 согласно Общим положениям обеспечения безопасности атомных станций;\\n- системы безопасности;\\n- системы нормальной эксплуатации и их элементы, отказ которых при сейсмических воздействиях до МРЗ включительно может привести к выходу радиоактивных веществ в производственные помещения АС и окружающую среду в количествах, превышающих значения, установленные действующими Нормами радиационной безопасности для проектной аварии;\\n- здания, сооружения и их основания, оборудование и их элементы, механическое повреждение которых при сейсмических воздействиях до МРЗ включительно путем силового или температурного воздействия на вышеупомянутые элементы и системы может привести к их отказу в работе;\\n- прочие системы и элементы, отнесение которых к I категории сейсмостойкости обосновано в проекте и одобрено в установленном порядке.']"
      ]
     },
     "execution_count": 30,
     "metadata": {},
     "output_type": "execute_result"
    }
   ],
   "source": [
    "# context.split('Название')"
   ]
  },
  {
   "cell_type": "code",
   "execution_count": null,
   "id": "1bcc32b7-b273-4991-b424-d06a26e137ec",
   "metadata": {},
   "outputs": [],
   "source": []
  },
  {
   "cell_type": "code",
   "execution_count": null,
   "id": "bab3a238-5964-42c4-ba55-f1fa4a102789",
   "metadata": {},
   "outputs": [],
   "source": []
  },
  {
   "cell_type": "code",
   "execution_count": null,
   "id": "ac54d892-76d4-460f-a3b9-3cda76f76f71",
   "metadata": {},
   "outputs": [],
   "source": []
  },
  {
   "cell_type": "code",
   "execution_count": null,
   "id": "9ef2203c-efb7-4c9c-86b0-38f98457eaeb",
   "metadata": {},
   "outputs": [],
   "source": []
  },
  {
   "cell_type": "code",
   "execution_count": null,
   "id": "008b53fc-6e72-406d-9dfb-f938ce7aa3bb",
   "metadata": {},
   "outputs": [],
   "source": []
  },
  {
   "cell_type": "code",
   "execution_count": null,
   "id": "27364680-a59f-44dc-8d35-02b0b26b9658",
   "metadata": {},
   "outputs": [],
   "source": []
  },
  {
   "cell_type": "code",
   "execution_count": null,
   "id": "f7b3b8e3-a613-4901-a99b-28cced43aee9",
   "metadata": {},
   "outputs": [],
   "source": []
  },
  {
   "cell_type": "code",
   "execution_count": null,
   "id": "c857a757-55a8-4cb2-8e8a-a9964ed66d78",
   "metadata": {},
   "outputs": [],
   "source": []
  },
  {
   "cell_type": "code",
   "execution_count": null,
   "id": "2967020d-cd1d-4788-9075-95b4c22efd10",
   "metadata": {},
   "outputs": [],
   "source": []
  },
  {
   "cell_type": "code",
   "execution_count": null,
   "id": "70bf1cad-c202-402a-9d2c-22deaf2e2cf2",
   "metadata": {},
   "outputs": [],
   "source": []
  },
  {
   "cell_type": "code",
   "execution_count": null,
   "id": "1ad41952-def3-4e85-9504-bdec1782307b",
   "metadata": {},
   "outputs": [],
   "source": []
  },
  {
   "cell_type": "code",
   "execution_count": 13,
   "id": "bc47ab7e-d8b3-4b27-b59f-d892990f5bc0",
   "metadata": {},
   "outputs": [],
   "source": [
    "# query = 'Привет! Давай знакомиться?'\n",
    "# answer, context, history = model.predict(query)\n",
    "# print(answer)\n",
    "# history"
   ]
  },
  {
   "cell_type": "code",
   "execution_count": 14,
   "id": "ede5bee1-2df0-41e9-b061-66a7ceadf449",
   "metadata": {},
   "outputs": [],
   "source": [
    "# query = 'Какого цвета небо?'\n",
    "# answer, context, history = model.predict(query)\n",
    "# print(answer)\n",
    "# history"
   ]
  },
  {
   "cell_type": "code",
   "execution_count": 15,
   "id": "a7b0ca7f-bdb4-4474-a52c-608a3c05566a",
   "metadata": {},
   "outputs": [],
   "source": [
    "# query = 'А почему именно такой цвет?'\n",
    "# answer, context, history = model.predict(query)\n",
    "# print(answer)\n",
    "# history"
   ]
  },
  {
   "cell_type": "code",
   "execution_count": null,
   "id": "4054e63a-8a45-4631-8ac7-0eb4bd1bbace",
   "metadata": {},
   "outputs": [],
   "source": []
  },
  {
   "cell_type": "code",
   "execution_count": null,
   "id": "35200d91-e42e-47e8-b6a8-89835ded3241",
   "metadata": {},
   "outputs": [],
   "source": []
  },
  {
   "cell_type": "code",
   "execution_count": null,
   "id": "3f0c594e-9484-4a2c-9fdf-78d914e595f6",
   "metadata": {},
   "outputs": [],
   "source": []
  },
  {
   "cell_type": "code",
   "execution_count": 16,
   "id": "617ec6c4-841d-44a2-ac13-3b1368491f84",
   "metadata": {},
   "outputs": [],
   "source": [
    "# query = 'Опиши четыре класса безопасности по НП-001-15. Расскажи подробно что они включают и какие эелементы к ним относятся? В каком пункте НП-001-15 идет их описание?'\n",
    "# answer, context = model.predict(query)\n",
    "# print(answer)"
   ]
  },
  {
   "cell_type": "code",
   "execution_count": 17,
   "id": "ec88afe5-32d2-4c8c-ba5e-b123d1a5a196",
   "metadata": {},
   "outputs": [],
   "source": [
    "# query = 'Расскажи про 5 уровней глубокоэшелонированной защиты'\n",
    "# answer, context = model.predict(query)\n",
    "# print(answer)"
   ]
  },
  {
   "cell_type": "code",
   "execution_count": 18,
   "id": "51f7b438-7f96-46b8-9454-81add9be75b8",
   "metadata": {},
   "outputs": [],
   "source": [
    "# query = 'Перечисли основные функции систем безопасности на атомной станции'\n",
    "# answer, context = model.predict(query)\n",
    "# print(answer)"
   ]
  },
  {
   "cell_type": "code",
   "execution_count": 19,
   "id": "fdaab507-0b50-4c18-b9a1-4dc2dd59d838",
   "metadata": {},
   "outputs": [],
   "source": [
    "# query = 'Какие группы оборудования и трубопроводов по НП-089 существуют на атомной станции?'\n",
    "# answer, context = model.predict(query)\n",
    "# print(answer)"
   ]
  },
  {
   "cell_type": "code",
   "execution_count": null,
   "id": "a5fb72ff-2e3c-4d9f-a829-aec44adba9d3",
   "metadata": {},
   "outputs": [],
   "source": []
  }
 ],
 "metadata": {
  "kernelspec": {
   "display_name": "Python 3 (ipykernel)",
   "language": "python",
   "name": "python3"
  },
  "language_info": {
   "codemirror_mode": {
    "name": "ipython",
    "version": 3
   },
   "file_extension": ".py",
   "mimetype": "text/x-python",
   "name": "python",
   "nbconvert_exporter": "python",
   "pygments_lexer": "ipython3",
   "version": "3.12.7"
  }
 },
 "nbformat": 4,
 "nbformat_minor": 5
}
